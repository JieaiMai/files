{
 "cells": [
  {
   "cell_type": "code",
   "execution_count": 2,
   "metadata": {},
   "outputs": [
    {
     "name": "stdout",
     "output_type": "stream",
     "text": [
      "67902\n"
     ]
    }
   ],
   "source": [
    "import os\n",
    "import numpy as np\n",
    "import cv2\n",
    "import h5py\n",
    "\n",
    "def cv_imread( file_path =\"C:/e/学习资料/2/毕业设计/data/picture - level4/0.jpeg\" ):\n",
    "    cv_img=cv2.imdecode(np.fromfile(file_path,dtype=np.uint8),-1)  \n",
    "## imdecode读取的是rgb，如果后续需要opencv处理的话，需要转换成bgr，转换后图片颜色会变化  \n",
    "    #cv_img=cv2.cvtColor(cv_img,cv2.COLOR_RGB2BGR)  \n",
    "    return cv_img  \n",
    "\n",
    "def save_image_to_h5py(path):\n",
    "    img_list=[]  #初始化\n",
    "    cn = 0\n",
    "    for dir_image in os.listdir(path):\n",
    "        #读取文件\n",
    "        img=cv_imread(os.path.join(path,dir_image))\n",
    "        img_list.append(img)  #追加到img_list列表中\n",
    "        cn = cn+1\n",
    "\n",
    "    img_np = np.array(img_list)  #转为numpy的ndarray类型\n",
    "\n",
    "    f = h5py.File(r'C:\\e\\SR_datasets\\SR\\processed\\gan_data\\hr_hdf5_file.h5', 'w')  #写入文件\n",
    "    f['image'] = img_np  #名称为image\n",
    "    f.close()  #关闭文件\n",
    "    \n",
    "    return cn\n",
    "\n",
    "filepath = r'C:\\e\\SR_datasets\\SR\\processed\\gan_data\\HR'\n",
    "num1 = save_image_to_h5py(filepath)\n",
    "print ( num1)\n"
   ]
  },
  {
   "cell_type": "code",
   "execution_count": 4,
   "metadata": {},
   "outputs": [
    {
     "data": {
      "text/plain": [
       "(67902, 96, 96, 3)"
      ]
     },
     "execution_count": 4,
     "metadata": {},
     "output_type": "execute_result"
    }
   ],
   "source": [
    "import h5py\n",
    "file=h5py.File(r'C:\\e\\SR_datasets\\SR\\processed\\gan_data\\hr_hdf5_file.h5','r')\n",
    "image = file['image'][0, :, :, :]\n",
    "image.shape\n",
    "image = file['image']\n",
    "image.shape\n"
   ]
  },
  {
   "cell_type": "code",
   "execution_count": null,
   "metadata": {
    "collapsed": true
   },
   "outputs": [],
   "source": [
    "image = file['image'][0, :, :, :]\n",
    "image.shape\n",
    "\n",
    "cv2.imshow('image',image)\n",
    "cv2.waitKey(10000)   #等待键盘输入，单位为毫秒，即等待指定的毫秒数看是否有键盘输入，若在等待时间内按下任意键则返回按键的ASCII码，程序继续运行。\n",
    "#若没有按下任何键，超时后返回-1。参数为0表示无限等待。不调用waitKey的话，窗口会一闪而逝，看不到显示的图片。\n",
    "cv2.destroyAllWindows()  #销毁所有窗口\n"
   ]
  },
  {
   "cell_type": "code",
   "execution_count": null,
   "metadata": {
    "collapsed": true
   },
   "outputs": [],
   "source": [
    "\n",
    "\n"
   ]
  }
 ],
 "metadata": {
  "kernelspec": {
   "display_name": "Python 3",
   "language": "python",
   "name": "python3"
  },
  "language_info": {
   "codemirror_mode": {
    "name": "ipython",
    "version": 3
   },
   "file_extension": ".py",
   "mimetype": "text/x-python",
   "name": "python",
   "nbconvert_exporter": "python",
   "pygments_lexer": "ipython3",
   "version": "3.6.13"
  }
 },
 "nbformat": 4,
 "nbformat_minor": 2
}
