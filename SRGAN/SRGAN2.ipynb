{
 "cells": [
  {
   "cell_type": "code",
   "execution_count": 1,
   "metadata": {
    "colab": {
     "base_uri": "https://localhost:8080/"
    },
    "id": "kJXBnhcO1s22",
    "outputId": "fcd8e7da-fda8-4b44-be92-34a4178ec3c8"
   },
   "outputs": [
    {
     "name": "stdout",
     "output_type": "stream",
     "text": [
      "Using cuda device\n",
      "# generator parameters: 744588\n",
      "# discriminator parameters: 5216001\n"
     ]
    }
   ],
   "source": [
    "import torch.nn as nn\n",
    "import torch.nn.functional as F\n",
    "import torch\n",
    "import numpy as np\n",
    "from torchvision import transforms\n",
    "from PIL import Image\n",
    "import cv2\n",
    "from torch.utils.data import DataLoader, Dataset, ConcatDataset\n",
    "import torchvision.models as models\n",
    "import os\n",
    "import torch.optim as optim\n",
    "from torch.autograd import Variable\n",
    "import glob\n",
    "import skimage.color as sc\n",
    "\n",
    "\n",
    "import os \n",
    "#from google.colab import drive\n",
    "#drive.mount('/content/gdrive')\n",
    "#os.chdir('/content/gdrive/My Drive/SRGAN')\n",
    "\n",
    "from loss_r import GeneratorLoss\n",
    "from dataload.srdataload import srDataset_4c\n",
    "from utils.util import psnr , PSNR , predict_simager\n",
    "\n",
    "\n",
    "device = \"cuda\" if torch.cuda.is_available() else \"cpu\"\n",
    "print(f\"Using {device} device\")\n",
    "learning_rate = 6.3e-4  #6.3e-4 1e-5\n",
    "\n",
    "class residualBlock(nn.Module):\n",
    "    def __init__(self,channel=3):\n",
    "        super(residualBlock,self).__init__()\n",
    "        self.channels = 3\n",
    "        self.num_filter = 64\n",
    "        self.conv1= nn.Conv2d (self.num_filter,self.num_filter,(3,3) ,stride=1,padding = 'same')\n",
    "        self.batchn1 = nn.BatchNorm2d (self.num_filter)\n",
    "        self.prelu1 = nn.PReLU()\n",
    "        self.conv2= nn.Conv2d (self.num_filter,self.num_filter,(3,3) ,stride=1,padding = 'same')\n",
    "        self.batchn2 = nn.BatchNorm2d (self.num_filter)\n",
    "        \n",
    "        \n",
    "    def forward(self,x):\n",
    "        in_x = x\n",
    "        out = self.conv1(x)\n",
    "        out = self.batchn1(out)\n",
    "        out = self.prelu1(out)\n",
    "        out = self.conv2(out)\n",
    "        out = self.batchn2(out)\n",
    "        out = out + in_x\n",
    "        \n",
    "        return out\n",
    "    \n",
    "class  Generator(nn.Module):\n",
    "    \n",
    "    def __init__(self,channel=3):\n",
    "        super(Generator,self).__init__()\n",
    "        self.channels = channel\n",
    "        self.num_filter = 64\n",
    "        self.conv1= nn.Conv2d (self.channels,self.num_filter,(9,9) ,stride=1,padding=4)\n",
    "        self.prelu1 = nn.PReLU()\n",
    "        self.f1 = self.f_layers(residualBlock,5)\n",
    "        \n",
    "        self.conv2= nn.Conv2d (self.num_filter,self.num_filter,(3,3) ,stride=1,padding =1)\n",
    "        self.batchn2 = nn.BatchNorm2d (self.num_filter)\n",
    "        \n",
    "        # 卷积 后放大图片\n",
    "        self.conv3 = nn.Conv2d (self.num_filter,4 * self.num_filter,(3,3) ,stride=1,padding=1)\n",
    "        self.pshuffle1 = nn.PixelShuffle(2)\n",
    "        self.prelu3 = nn.PReLU()\n",
    "        \n",
    "        self.conv4 = nn.Conv2d ( self.num_filter,4 * self.num_filter,(3,3) ,stride=1,padding=1)\n",
    "        self.pshuffle2 = nn.PixelShuffle(2)\n",
    "        self.prelu4 = nn.PReLU()\n",
    "        \n",
    "        self.conv5= nn.Conv2d (self.num_filter,self.channels,(9,9) ,stride=1,padding=4)\n",
    "        \n",
    "        \n",
    "        \n",
    "       \n",
    "    \n",
    "    def f_layers ( self,block,num):\n",
    "        layers =[]\n",
    "        for i in range(num):\n",
    "            layers.append(block())\n",
    "            \n",
    "        return nn.Sequential ( *layers )\n",
    "            \n",
    "        \n",
    "        \n",
    "    def forward(self,x):\n",
    "        \n",
    "        out = self.conv1(x)\n",
    "        out = self.prelu1(out)\n",
    "        in_out = out\n",
    "        out = self.f1(out)\n",
    "        out = self.conv2(out)\n",
    "        out = self.batchn2(out)\n",
    "        out = in_out + out\n",
    "        \n",
    "        out = self.conv3(out)\n",
    "        out = self.pshuffle1(out)\n",
    "        out = self.prelu3(out)\n",
    "        \n",
    "        out = self.conv4(out)\n",
    "        out = self.pshuffle2(out)\n",
    "        out = self.prelu4(out)\n",
    "        \n",
    "        out = self.conv5(out)\n",
    "        \n",
    "        return (torch.tanh(out) + 1)/2\n",
    "    \n",
    "class Discriminator(nn.Module):\n",
    "    def __init__(self,channel=3):\n",
    "        super(Discriminator,self).__init__()\n",
    "        self.channels = channel\n",
    "        self.num_filter = 64\n",
    "        self.conv1= nn.Conv2d (self.channels,self.num_filter,(3,3) ,stride=1,padding=1)\n",
    "        self.lrelu1 = nn.LeakyReLU(0.2)\n",
    "    \n",
    "        self.conv2= nn.Conv2d (self.num_filter,self.num_filter,(3,3) ,stride=2,padding=1)\n",
    "        self.batchn2 = nn.BatchNorm2d (self.num_filter)\n",
    "        self.lrelu2 = nn.LeakyReLU(0.2)\n",
    "       \n",
    "        self.conv3= nn.Conv2d (self.num_filter,2 * self.num_filter,(3,3) ,stride=1,padding=1)\n",
    "        self.batchn3 = nn.BatchNorm2d ( 2 * self.num_filter)\n",
    "        self.lrelu3 = nn.LeakyReLU(0.2)\n",
    "        self.conv4= nn.Conv2d ( 2 * self.num_filter,2 * self.num_filter,(3,3) ,stride=2,padding=1)\n",
    "        self.batchn4 = nn.BatchNorm2d ( 2 * self.num_filter)\n",
    "        self.lrelu4 = nn.LeakyReLU(0.2)\n",
    "        \n",
    "        self.conv5= nn.Conv2d (2 * self.num_filter,4 * self.num_filter,(3,3) ,stride=1,padding=1)\n",
    "        self.batchn5 = nn.BatchNorm2d ( 4 * self.num_filter)\n",
    "        self.lrelu5 = nn.LeakyReLU(0.2)\n",
    "        self.conv6= nn.Conv2d ( 4 * self.num_filter,4 * self.num_filter,(3,3) ,stride=2,padding=1)\n",
    "        self.batchn6 = nn.BatchNorm2d ( 4 * self.num_filter)\n",
    "        self.lrelu6 = nn.LeakyReLU(0.2)\n",
    "        \n",
    "        self.conv7= nn.Conv2d (4 * self.num_filter,8 * self.num_filter,(3,3) ,stride=1,padding=1)\n",
    "        self.batchn7 = nn.BatchNorm2d ( 8 * self.num_filter)\n",
    "        self.lrelu7 = nn.LeakyReLU(0.2)\n",
    "        self.conv8= nn.Conv2d ( 8 * self.num_filter,8 * self.num_filter,(3,3) ,stride=2,padding=1)\n",
    "        self.batchn8 = nn.BatchNorm2d ( 8 * self.num_filter)\n",
    "        self.lrelu8 = nn.LeakyReLU(0.2)\n",
    "        \n",
    "        self.fc = nn.Sequential(\n",
    "            nn.AdaptiveAvgPool2d(1),\n",
    "            nn.Conv2d(512, 1024, kernel_size=1),\n",
    "            nn.LeakyReLU(0.2),\n",
    "            nn.Conv2d(1024, 1, kernel_size=1)\n",
    "           \n",
    "            \n",
    "        )\n",
    "        \n",
    "        \n",
    "    def forward(self,x):\n",
    "        batch_size = x.size(0)\n",
    "        out = self.conv1(x)\n",
    "        out = self.lrelu1(out)\n",
    "        \n",
    "        out = self.conv2(out)\n",
    "        out = self.batchn2(out)\n",
    "        out = self.lrelu2(out)\n",
    "        \n",
    "        out = self.conv3(out)\n",
    "        out = self.batchn3(out)\n",
    "        out = self.lrelu3(out)\n",
    "        out = self.conv4(out)\n",
    "        out = self.batchn4(out)\n",
    "        out = self.lrelu4(out)\n",
    "        \n",
    "        out = self.conv5(out)\n",
    "        out = self.batchn5(out)\n",
    "        out = self.lrelu5(out)\n",
    "        out = self.conv6(out)\n",
    "        out = self.batchn6(out)\n",
    "        out = self.lrelu6(out)\n",
    "        \n",
    "        out = self.conv7(out)\n",
    "        out = self.batchn7(out)\n",
    "        out = self.lrelu7(out)\n",
    "        out = self.conv8(out)\n",
    "        out = self.batchn8(out)\n",
    "        out = self.lrelu8(out)\n",
    "           \n",
    "        out = self.fc(out).view(batch_size)\n",
    "        \n",
    "        return torch.sigmoid(out)\n",
    "        \n",
    "\n",
    "def train_model( g_model,d_model,dataset1,steps,batch_size ,loss1,device,learning_rate ):\n",
    "    train_dataloader = DataLoader(dataset1, batch_size= batch_size, shuffle=True)\n",
    "    \n",
    "    loss_f = loss1\n",
    "    size = len(train_dataloader.dataset)\n",
    "    \n",
    "    optimizerG = optim.Adam(g_model.parameters(),learning_rate)\n",
    "    optimizerD = optim.Adam(d_model.parameters(),learning_rate)\n",
    "  \n",
    "    #img_path = 'test_imgs/b_4down3.jpg'\n",
    "    #img_path2 = 'test_imgs/butterfly.png'\n",
    "    img_path = 'test_imgs/down1.png'\n",
    "    img_path2 = 'test_imgs/t2_1.png'\n",
    "    data_transform = transforms.Compose([\n",
    "    transforms.ToTensor()#,transforms.Normalize([0.5,0.5,0.5],[0.5,0.5,0.5])\n",
    "    ])\n",
    "    \n",
    "    for step in range( steps):\n",
    "        g_model.train()\n",
    "        d_model.train()\n",
    "        for batch , (X, y) in enumerate(train_dataloader):\n",
    "        # Compute prediction and loss\n",
    "           \n",
    "            input1 ,target = Variable(X), Variable(y, requires_grad=False)\n",
    "            input1 = input1.to(device)\n",
    "            target = target.to(device)\n",
    "           \n",
    "            real_img =target\n",
    "            fake_img = g_model(input1)\n",
    "             # 更新判别器D的参数\n",
    "            d_model.zero_grad()\n",
    "            real_out = d_model(real_img).mean()\n",
    "            fake_out = d_model(fake_img).mean()\n",
    "            d_loss = 1 - real_out + fake_out\n",
    "            d_loss.backward(retain_graph=True)\n",
    "            optimizerD.step()\n",
    "            \n",
    "            # 更新生成器G的参数\n",
    "            g_model.zero_grad()\n",
    "            \n",
    "            fake_img = g_model(input1)\n",
    "            fake_out = d_model(fake_img).mean()\n",
    "            ##\n",
    "            #print ( fake_out.shape)\n",
    "            #print ( fake_img.shape)\n",
    "            #print ( real_img.shape)\n",
    "            g_loss = generator_criterion(fake_out, fake_img, real_img)\n",
    "            g_loss.backward()\n",
    "            \n",
    "            fake_img = g_model(input1)\n",
    "            fake_out = d_model(fake_img).mean()\n",
    "            \n",
    "            \n",
    "            optimizerG.step()\n",
    "       \n",
    "            predict_simager ( g_model,img_path,img_path2,data_transform,device)\n",
    "\n",
    "            if batch % 100 == 0:\n",
    "                loss, current = g_loss.item(), batch * len(X)\n",
    "                predict_simager ( g_model,img_path,img_path2,data_transform,device)\n",
    "                print(f\"loss: {loss:>7f}  [{current:>5d}/{size:>5d}]\")\n",
    "\n",
    "            ''' if (batch+1) % 500 == 0:\n",
    "              torch.save(g_model.state_dict(), 'save_models/'+str(step)+'_'+str(batch)+'gmodel_weights2.pth')\n",
    "              torch.save(d_model.state_dict(), 'save_models/'+str(step)+'_'+str(batch)+'dmodel_weights2.pth')\n",
    "            if (batch+1) % 700 == 0:\n",
    "              torch.save(g_model.state_dict(), 'save_models/'+str(step)+'_'+str(batch)+'gmodel_weights2.pth')\n",
    "              torch.save(d_model.state_dict(), 'save_models/'+str(step)+'_'+str(batch)+'dmodel_weights2.pth')\n",
    "            \n",
    "            if (batch+1) % 1000 == 0:\n",
    "              torch.save(g_model.state_dict(), 'save_models/'+str(step)+'_'+str(batch)+'gmodel_weights2.pth')\n",
    "              torch.save(d_model.state_dict(), 'save_models/'+str(step)+'_'+str(batch)+'dmodel_weights2.pth')'''\n",
    "\n",
    "\n",
    "        torch.save(g_model.state_dict(), 'save_models_d/'+str(step)+'gmodel_weights2.pth')\n",
    "        torch.save(d_model.state_dict(), 'save_models_d/'+str(step)+'dmodel_weights2.pth')\n",
    "        predict_simager ( g_model,img_path,img_path2,data_transform,device)\n",
    "\n",
    "if __name__ == \"__main__\":\n",
    "    \n",
    "    #hr_path = r'gan_data/hr_hdf5_file.h5'\n",
    "    #lr_path = r'gan_data/lr_hdf5_file.h5'\n",
    "    hr_path = r'gan_data/hr_srgan.h5'\n",
    "    lr_path = r'gan_data/lr_srgan.h5'\n",
    "\n",
    "    data_transform = transforms.Compose([\n",
    "        transforms.ToTensor()#,transforms.Normalize([0.5,0.5,0.5],[0.5,0.5,0.5])\n",
    "    ])\n",
    "    #sr_data = srDataset_4c( lr_dir = lr_path,hr_dir = hr_path, mode='train', transform=data_transform)\n",
    "    generator = Generator(4).to(device)\n",
    "    print('# generator parameters:', sum(param.numel() for param in generator.parameters()))\n",
    "    discriminator = Discriminator(4).to(device) #Discriminator\n",
    "    print('# discriminator parameters:', sum(param.numel() for param in discriminator.parameters()))\n",
    "    generator.load_state_dict(torch.load('save_models_d/9gmodel_weights2.pth'))\n",
    "    discriminator.load_state_dict(torch.load('save_models_d/9dmodel_weights2.pth'))\n",
    "   # generator_criterion = GeneratorLoss().to(device)\n",
    "    #print(sr_data[5][0].shape)  # 此处为__getitem__的用法\n",
    "    \n",
    "    #train_model( generator,discriminator,sr_data,10,64 ,generator_criterion,device,learning_rate)\n",
    "        "
   ]
  },
  {
   "cell_type": "code",
   "execution_count": null,
   "metadata": {
    "colab": {
     "base_uri": "https://localhost:8080/"
    },
    "executionInfo": {
     "elapsed": 951,
     "status": "ok",
     "timestamp": 1651576429395,
     "user": {
      "displayName": "xiao Mai",
      "userId": "06780571542591735896"
     },
     "user_tz": -480
    },
    "id": "DocLdX4mm_Ii",
    "outputId": "b8820912-4f65-458f-8c47-7dc54df5e7af"
   },
   "outputs": [
    {
     "name": "stdout",
     "output_type": "stream",
     "text": [
      "(64, 64, 3)\n",
      "(256, 256, 4)\n"
     ]
    }
   ],
   "source": [
    "from PIL import Image\n",
    "img_path = 'test_imgs/down1.jpg'\n",
    "img_path2 = 'test_imgs/t2_1.png'\n",
    "img = Image.open(img_path)\n",
    "target = Image.open(img_path2)\n",
    "#imgt = transforms1(img).unsqueeze(0)\n",
    "#imgt = imgt.to(device)\n",
    "    \n",
    "imgn = np.array (img)\n",
    "target = np.array ( target)\n",
    "print ( imgn.shape)\n",
    "print ( target.shape)\n"
   ]
  },
  {
   "cell_type": "code",
   "execution_count": 2,
   "metadata": {
    "id": "DvqpO2JB0qsX"
   },
   "outputs": [
    {
     "name": "stdout",
     "output_type": "stream",
     "text": [
      "(64, 64, 4)\n",
      "(256, 256, 4)\n",
      "20.484045741139575\n",
      "20.484045741139575\n"
     ]
    }
   ],
   "source": [
    "def predict_simagetr1 ( model,img_path,img_path2,transforms1,device):\n",
    "    img = Image.open(img_path)\n",
    "    target = Image.open(img_path2)\n",
    "    imgt = transforms1(img).unsqueeze(0)\n",
    "    imgt = imgt.to(device)\n",
    "    \n",
    "    imgn = np.array (img)\n",
    "    target = np.array ( target)\n",
    "    print ( imgn.shape)\n",
    "    \n",
    "    pre = model(imgt)\n",
    "    pren = pre.cpu().detach().numpy().squeeze(0)\n",
    "    pren *= 225\n",
    "    pren = np.float32(pren).transpose(1,2,0)\n",
    "    #pre_t = detransform(pre,device)\n",
    "    #print ( imgn)\n",
    "    #print ( pre_t)\n",
    "    pre_s = pren.astype(np.uint8)\n",
    "    pre_s1 = Image.fromarray ( pre_s)\n",
    "    pre_s1.save (\"test_set5/d_data/test_image24.png\")\n",
    "    print ( pren.shape)\n",
    "    p1 = psnr (target,pren)\n",
    "    p3 = PSNR ( pren,target)\n",
    "    #p4 = PSNR (imgn,target)\n",
    "    #p2 = psnr ( target,imgn )\n",
    "    print ( p1)\n",
    "    print ( p3)\n",
    "    #print ( p4)\n",
    "    #print ( p2)\n",
    "img_path = 'C:/e/SR_datasets/level6_process/test/down_cubic/24t.png'\n",
    "img_path2 = 'C:/e/SR_datasets/level6_process/test/down_cubic/24down.png'\n",
    "#img_path = 'C:/e/SR_datasets/SR/processed/LR2/9070.jpg' #C:\\e\\SR_datasets\\SR\\processed\\HR\n",
    "#img_path2 = 'C:/e/SR_datasets/SR/processed/HR/9070.jpg'  #C:/e/SR_datasets/SR/test/butterfly/0h.jpg\n",
    "predict_simagetr1 ( generator,img_path2,img_path,data_transform,device)"
   ]
  },
  {
   "cell_type": "code",
   "execution_count": null,
   "metadata": {
    "colab": {
     "base_uri": "https://localhost:8080/",
     "height": 243
    },
    "collapsed": true,
    "executionInfo": {
     "elapsed": 254,
     "status": "error",
     "timestamp": 1649989425548,
     "user": {
      "displayName": "xiao Mai",
      "userId": "06780571542591735896"
     },
     "user_tz": -480
    },
    "id": "sQxGsfIgqltg",
    "outputId": "e55c6cd5-6ff8-4831-ec92-cfad1116a1a8"
   },
   "outputs": [],
   "source": []
  },
  {
   "cell_type": "code",
   "execution_count": 2,
   "metadata": {
    "colab": {
     "base_uri": "https://localhost:8080/"
    },
    "collapsed": true,
    "executionInfo": {
     "elapsed": 20138,
     "status": "ok",
     "timestamp": 1651974230126,
     "user": {
      "displayName": "xiao Mai",
      "userId": "06780571542591735896"
     },
     "user_tz": -480
    },
    "id": "iMYv_ZJZ1s27",
    "outputId": "1f625409-db0b-43f8-d41d-98aabf64cf26"
   },
   "outputs": [
    {
     "name": "stdout",
     "output_type": "stream",
     "text": [
      "Mounted at /content/gdrive\n"
     ]
    }
   ],
   "source": [
    "from google.colab import drive \n",
    "drive.mount('/content/gdrive')"
   ]
  },
  {
   "cell_type": "code",
   "execution_count": null,
   "metadata": {
    "colab": {
     "base_uri": "https://localhost:8080/"
    },
    "collapsed": true,
    "executionInfo": {
     "elapsed": 19784,
     "status": "ok",
     "timestamp": 1651974204035,
     "user": {
      "displayName": "xiao Mai",
      "userId": "06780571542591735896"
     },
     "user_tz": -480
    },
    "id": "6P5Xr87HAZdt",
    "outputId": "c11364f4-7031-4c76-dc75-f6cb4deba9ad"
   },
   "outputs": [],
   "source": []
  },
  {
   "cell_type": "code",
   "execution_count": null,
   "metadata": {
    "colab": {
     "base_uri": "https://localhost:8080/"
    },
    "executionInfo": {
     "elapsed": 11,
     "status": "ok",
     "timestamp": 1651799272643,
     "user": {
      "displayName": "xiao Mai",
      "userId": "06780571542591735896"
     },
     "user_tz": -480
    },
    "id": "HirmMMJW1P_Q",
    "outputId": "255df2f9-4c4c-4333-a033-9c87e85b14a7"
   },
   "outputs": [
    {
     "name": "stdout",
     "output_type": "stream",
     "text": [
      "Fri May  6 01:07:53 2022       \n",
      "+-----------------------------------------------------------------------------+\n",
      "| NVIDIA-SMI 460.32.03    Driver Version: 460.32.03    CUDA Version: 11.2     |\n",
      "|-------------------------------+----------------------+----------------------+\n",
      "| GPU  Name        Persistence-M| Bus-Id        Disp.A | Volatile Uncorr. ECC |\n",
      "| Fan  Temp  Perf  Pwr:Usage/Cap|         Memory-Usage | GPU-Util  Compute M. |\n",
      "|                               |                      |               MIG M. |\n",
      "|===============================+======================+======================|\n",
      "|   0  Tesla T4            Off  | 00000000:00:04.0 Off |                    0 |\n",
      "| N/A   36C    P8    11W /  70W |      0MiB / 15109MiB |      0%      Default |\n",
      "|                               |                      |                  N/A |\n",
      "+-------------------------------+----------------------+----------------------+\n",
      "                                                                               \n",
      "+-----------------------------------------------------------------------------+\n",
      "| Processes:                                                                  |\n",
      "|  GPU   GI   CI        PID   Type   Process name                  GPU Memory |\n",
      "|        ID   ID                                                   Usage      |\n",
      "|=============================================================================|\n",
      "|  No running processes found                                                 |\n",
      "+-----------------------------------------------------------------------------+\n"
     ]
    }
   ],
   "source": [
    "!nvidia-smi"
   ]
  },
  {
   "cell_type": "markdown",
   "metadata": {
    "id": "XXoC9if3CXbj"
   },
   "source": []
  }
 ],
 "metadata": {
  "accelerator": "GPU",
  "colab": {
   "collapsed_sections": [],
   "machine_shape": "hm",
   "name": "SRGAN2.ipynb",
   "provenance": []
  },
  "kernelspec": {
   "display_name": "Python 3",
   "language": "python",
   "name": "python3"
  },
  "language_info": {
   "codemirror_mode": {
    "name": "ipython",
    "version": 3
   },
   "file_extension": ".py",
   "mimetype": "text/x-python",
   "name": "python",
   "nbconvert_exporter": "python",
   "pygments_lexer": "ipython3",
   "version": "3.6.13"
  }
 },
 "nbformat": 4,
 "nbformat_minor": 1
}
