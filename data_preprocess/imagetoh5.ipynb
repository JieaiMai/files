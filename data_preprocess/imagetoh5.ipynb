{
 "cells": [
  {
   "cell_type": "code",
   "execution_count": 3,
   "metadata": {},
   "outputs": [],
   "source": [
    "import os\n",
    "import numpy as np\n",
    "import cv2\n",
    "import h5py\n",
    "\n",
    "def cv_imread( file_path =\"C:/e/学习资料/2/毕业设计/data/picture - level4/0.jpeg\" ):\n",
    "    cv_img=cv2.imdecode(np.fromfile(file_path,dtype=np.uint8),-1)  \n",
    "## imdecode读取的是rgb，如果后续需要opencv处理的话，需要转换成bgr，转换后图片颜色会变化  \n",
    "    #cv_img=cv2.cvtColor(cv_img,cv2.COLOR_RGB2BGR)  \n",
    "    return cv_img  \n",
    "\n",
    "def save_image_to_h5py(path):\n",
    "    img_list=[]  #初始化\n",
    "    cn = 0\n",
    "    for dir_image in os.listdir(path):\n",
    "        #读取文件\n",
    "        img=cv_imread(os.path.join(path,dir_image))\n",
    "        img_list.append(img)  #追加到img_list列表中\n",
    "        cn = cn+1\n",
    "\n",
    "    img_np = np.array(img_list)  #转为numpy的ndarray类型\n",
    "\n",
    "    f = h5py.File(r'C:\\e\\SR_datasets\\SR\\processed\\gan_data\\lr_hdf5_file.h5', 'w')  #写入文件\n",
    "    f['image'] = img_np  #名称为image\n",
    "    f.close()  #关闭文件\n",
    "    \n",
    "    return cn\n",
    "\n",
    "filepath = r'C:\\e\\SR_datasets\\SR\\processed\\gan_data\\LR'\n",
    "#num1 = save_image_to_h5py(filepath)\n",
    "#print ( num1)\n"
   ]
  },
  {
   "cell_type": "code",
   "execution_count": 5,
   "metadata": {},
   "outputs": [
    {
     "data": {
      "text/plain": [
       "(67902, 24, 24, 3)"
      ]
     },
     "execution_count": 5,
     "metadata": {},
     "output_type": "execute_result"
    }
   ],
   "source": [
    "import h5py\n",
    "file=h5py.File(r'C:\\e\\SR_datasets\\SR\\processed\\gan_data\\lr_hdf5_file.h5','r')\n",
    "image = file['image'][0, :, :, :]\n",
    "image.shape\n",
    "image = file['image']\n",
    "image.shape\n"
   ]
  },
  {
   "cell_type": "code",
   "execution_count": 6,
   "metadata": {},
   "outputs": [
    {
     "name": "stdout",
     "output_type": "stream",
     "text": [
      "(24, 24, 3)\n"
     ]
    }
   ],
   "source": [
    "image = file['image'][0, :, :, :]\n",
    "print (image.shape)\n",
    "\n",
    "from PIL import Image\n",
    "im = Image.fromarray(image)\n",
    "\n",
    "im.show()\n",
    "#cv2.imshow('image',image)\n",
    "#cv2.waitKey(10000)   #等待键盘输入，单位为毫秒，即等待指定的毫秒数看是否有键盘输入，若在等待时间内按下任意键则返回按键的ASCII码，程序继续运行。\n",
    "#若没有按下任何键，超时后返回-1。参数为0表示无限等待。不调用waitKey的话，窗口会一闪而逝，看不到显示的图片。\n",
    "#cv2.destroyAllWindows()  #销毁所有窗口\n"
   ]
  },
  {
   "cell_type": "code",
   "execution_count": 7,
   "metadata": {},
   "outputs": [
    {
     "name": "stdout",
     "output_type": "stream",
     "text": [
      "(24, 24, 3)\n",
      "False\n"
     ]
    }
   ],
   "source": [
    "from PIL import Image\n",
    "img = Image.open(r'C:\\e\\SR_datasets\\SR\\processed\\gan_data\\LR\\0.jpg')\n",
    "img_a = np.array ( img)\n",
    "print ( img_a.shape )\n",
    "print ( (img_a==image).all())"
   ]
  },
  {
   "cell_type": "code",
   "execution_count": 27,
   "metadata": {},
   "outputs": [
    {
     "name": "stdout",
     "output_type": "stream",
     "text": [
      "True\n"
     ]
    }
   ],
   "source": [
    "image_t = cv2.cvtColor(image,cv2.COLOR_RGB2BGR) \n",
    "#image_t = image.transpose(2,0,1).transpose(2,1,0)\n",
    "\n",
    "print ( (image_t==img_a).all())"
   ]
  },
  {
   "cell_type": "code",
   "execution_count": 33,
   "metadata": {},
   "outputs": [
    {
     "name": "stdout",
     "output_type": "stream",
     "text": [
      "<class 'PIL.JpegImagePlugin.JpegImageFile'>\n",
      "tensor(True)\n"
     ]
    }
   ],
   "source": [
    "from torchvision import transforms\n",
    "data_transform = transforms.Compose([\n",
    "    transforms.ToTensor()\n",
    "    ])\n",
    "print ( type(img))\n",
    "img1 = data_transform(img)\n",
    "img2 =  data_transform(image_t)\n",
    "print ( (img1==img2).all())"
   ]
  },
  {
   "cell_type": "code",
   "execution_count": null,
   "metadata": {
    "collapsed": true
   },
   "outputs": [],
   "source": []
  }
 ],
 "metadata": {
  "kernelspec": {
   "display_name": "Python 3 (ipykernel)",
   "language": "python",
   "name": "python3"
  },
  "language_info": {
   "codemirror_mode": {
    "name": "ipython",
    "version": 3
   },
   "file_extension": ".py",
   "mimetype": "text/x-python",
   "name": "python",
   "nbconvert_exporter": "python",
   "pygments_lexer": "ipython3",
   "version": "3.9.12"
  }
 },
 "nbformat": 4,
 "nbformat_minor": 2
}
