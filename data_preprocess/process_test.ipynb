{
 "cells": [
  {
   "cell_type": "code",
   "execution_count": 1,
   "metadata": {},
   "outputs": [],
   "source": [
    "import cv2\n",
    "import numpy as np\n",
    "import glob\n",
    "import random\n",
    "\n",
    "def cv_imread( file_path =\"C:/e/学习资料/2/毕业设计/data/picture - level4/0.jpeg\" ):\n",
    "    cv_img=cv2.imdecode(np.fromfile(file_path,dtype=np.uint8),-1)  \n",
    "## imdecode读取的是rgb，如果后续需要opencv处理的话，需要转换成bgr，转换后图片颜色会变化  \n",
    "    #cv_img=cv2.cvtColor(cv_img,cv2.COLOR_RGB2BGR)  \n",
    "    return cv_img  \n",
    "\n",
    "def rotate_bound1(image, angle):\n",
    "    '''\n",
    "     . 旋转图片\n",
    "     . @param image    opencv读取后的图像\n",
    "     . @param angle    (逆)旋转角度\n",
    "    '''\n",
    "\n",
    "    # img = cv2.imread(\"img/1.jpg\")\n",
    "    (h, w) = image.shape[:2]  # 返回(高,宽,色彩通道数),此处取前两个值返回\n",
    "    # 抓取旋转矩阵(应用角度的负值顺时针旋转)。参数1为旋转中心点;参数2为旋转角度,正的值表示逆时针旋转;参数3为各向同性的比例因子\n",
    "    M = cv2.getRotationMatrix2D((w / 2, h / 2), -angle, 1.0)\n",
    "    # 计算图像的新边界维数\n",
    "    newW = int((h * np.abs(M[0, 1])) + (w * np.abs(M[0, 0])))\n",
    "    newH = int((h * np.abs(M[0, 0])) + (w * np.abs(M[0, 1])))\n",
    "    # 调整旋转矩阵以考虑平移\n",
    "    M[0, 2] += (newW - w) / 2\n",
    "    M[1, 2] += (newH - h) / 2\n",
    "    # 执行实际的旋转并返回图像\n",
    "    return cv2.warpAffine(image, M, (newW, newH)) # borderValue 缺省，默认是黑色"
   ]
  },
  {
   "cell_type": "code",
   "execution_count": 3,
   "metadata": {},
   "outputs": [
    {
     "name": "stdout",
     "output_type": "stream",
     "text": [
      "(8192, 8192, 3)\n"
     ]
    },
    {
     "data": {
      "text/plain": [
       "True"
      ]
     },
     "execution_count": 3,
     "metadata": {},
     "output_type": "execute_result"
    }
   ],
   "source": [
    "def processtestr ( file_path):\n",
    "    cnt = 0\n",
    "    for jpgfile in glob.glob(file_path):\n",
    "        img = cv_imread ( jpgfile )\n",
    "    \n",
    "        rest = cv2.resize ( img,None, fx=0.25,fy =0.25)  # 下采样 \n",
    "        #print ( rest.shape)\n",
    "        rest2 = cv2.resize(rest,None, fx=4,fy =4,interpolation = cv2.INTER_CUBIC) # 上采样双三次插值\n",
    "        #print ( rest2.shape)\n",
    "        cnt = cnt+1\n",
    "        print (img.shape)\n",
    "        \n",
    "        cv2.imwrite (\"C:/e/SR_datasets/level6_process/test/down_cubic/t\"+str(cnt)+\".png\",img)\n",
    "        #cv2.imwrite (\"C:/e/SR_datasets/level6_process/test/down_cubic/down\"+str(cnt)+\".png\",rest)\n",
    "        #cv2.imwrite (\"C:/e/SR_datasets/level6_process/test/down_cubic/cubic\"+str(cnt)+\".png\",rest2)\n",
    "        \n",
    "       \n",
    "    \n",
    "    cnt=0\n",
    "    return cnt\n",
    "#C:\\e\\SR_datasets\\level6_process\\test\\sub_img\n",
    "test_img = r'C:\\e\\SR_datasets\\level6_process\\test\\down_cubic\\*.png'\n",
    "#r'C:\\e\\SR_datasets\\SR\\SR_testing_datasets\\Set5\\*.png'\n",
    "#img = cv_imread ( 'C:/e/SR_datasets/level6_process/test/sub_img/24(1).png' )\n",
    "img = cv_imread('D:/xiao mai/level6/sub/test/259.jpeg')\n",
    "rest = cv2.resize ( img,None, fx=0.25,fy =0.25)  # 下采样 \n",
    "#print ( rest.shape)\n",
    "rest2 = cv2.resize(rest,None, fx=4,fy =4,interpolation = cv2.INTER_CUBIC) # 上采样双三次插值\n",
    "        \n",
    "print (img.shape)\n",
    "        \n",
    "cv2.imwrite (\"D:/xiao mai/level6/sub/test/259_t.png\",img)\n",
    "cv2.imwrite (\"D:/xiao mai/level6/sub/test/259_down.png\",rest)\n",
    "cv2.imwrite (\"D:/xiao mai/level6/sub/test/259_cubic.png\",rest2)\n",
    "#i = processtestr(test_img)\n",
    "#print ( i)"
   ]
  },
  {
   "cell_type": "code",
   "execution_count": 5,
   "metadata": {},
   "outputs": [
    {
     "name": "stdout",
     "output_type": "stream",
     "text": [
      "(480, 500, 3)\n",
      "(576, 720, 3)\n",
      "(288, 352, 3)\n",
      "(360, 248, 4)\n",
      "(360, 500, 4)\n",
      "(512, 512, 3)\n",
      "(512, 768, 3)\n",
      "(512, 512, 3)\n",
      "(360, 580, 4)\n",
      "9\n"
     ]
    }
   ],
   "source": [
    "def processtest ( file_path):\n",
    "    cnt = 0\n",
    "    for jpgfile in glob.glob(file_path):\n",
    "        img = cv_imread ( jpgfile )\n",
    "    \n",
    "        rest = cv2.resize ( img,None, fx=0.25,fy =0.25)  # 下采样 \n",
    "        #print ( rest.shape)\n",
    "        rest2 = cv2.resize(rest,None, fx=4,fy =4,interpolation = cv2.INTER_CUBIC) # 上采样双三次插值\n",
    "        #print ( rest2.shape)\n",
    "        cnt = cnt+1\n",
    "        print (img.shape)\n",
    "        #C:\\e\\SR_datasets\\SR\\test\\set14\n",
    "        cv2.imwrite (\"C:/e/SR_datasets/SR/test/set14/t\"+str(cnt)+\".png\",img)\n",
    "        cv2.imwrite (\"C:/e/SR_datasets/SR/test/set14/down\"+str(cnt)+\".png\",rest)\n",
    "        cv2.imwrite (\"C:/e/SR_datasets/SR/test/set14/cubic\"+str(cnt)+\".png\",rest2)\n",
    "        \n",
    "       \n",
    "    \n",
    "    \n",
    "    return cnt\n",
    "#C:\\e\\SR_datasets\\level6_process\\test\\sub_img\n",
    "test_img = r'C:\\e\\SR_datasets\\SR\\test\\set14\\*.png'\n",
    "#r'C:\\e\\SR_datasets\\SR\\SR_testing_datasets\\Set5\\*.png'\n",
    "\n",
    "i = processtest(test_img)\n",
    "print ( i)"
   ]
  },
  {
   "cell_type": "code",
   "execution_count": 4,
   "metadata": {},
   "outputs": [
    {
     "name": "stdout",
     "output_type": "stream",
     "text": [
      "(8192, 8192, 3)\n",
      "(2048, 2048, 3)\n",
      "(8192, 8192, 3)\n",
      "False\n",
      "False\n"
     ]
    }
   ],
   "source": [
    "img = cv_imread('D:/xiao mai/level6/sub/test/259.jpeg')\n",
    "img1 = cv_imread('D:/xiao mai/level6/sub/test/259_t.png')\n",
    "img2 = cv_imread('D:/xiao mai/level6/sub/test/259_down.png')\n",
    "img3 = cv_imread('D:/xiao mai/level6/sub/test/259_cubic.png')\n",
    "print ( img1.shape)\n",
    "print ( img2.shape)\n",
    "print ( img3.shape)\n",
    "print ( (img1==img3).all())\n",
    "print ( (img==img3).all())"
   ]
  },
  {
   "cell_type": "code",
   "execution_count": 5,
   "metadata": {},
   "outputs": [
    {
     "name": "stdout",
     "output_type": "stream",
     "text": [
      "True\n"
     ]
    }
   ],
   "source": [
    "print ( (img1==img).all())"
   ]
  },
  {
   "cell_type": "code",
   "execution_count": null,
   "metadata": {},
   "outputs": [],
   "source": []
  }
 ],
 "metadata": {
  "kernelspec": {
   "display_name": "Python 3 (ipykernel)",
   "language": "python",
   "name": "python3"
  },
  "language_info": {
   "codemirror_mode": {
    "name": "ipython",
    "version": 3
   },
   "file_extension": ".py",
   "mimetype": "text/x-python",
   "name": "python",
   "nbconvert_exporter": "python",
   "pygments_lexer": "ipython3",
   "version": "3.9.12"
  }
 },
 "nbformat": 4,
 "nbformat_minor": 2
}
